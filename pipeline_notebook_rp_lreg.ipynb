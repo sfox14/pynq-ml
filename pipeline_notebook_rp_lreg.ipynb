{
 "cells": [
  {
   "cell_type": "markdown",
   "metadata": {},
   "source": [
    "# Random Projection + Linear Regression Pipeline"
   ]
  },
  {
   "cell_type": "code",
   "execution_count": 1,
   "metadata": {},
   "outputs": [
    {
     "data": {
      "application/javascript": [
       "\n",
       "require(['notebook/js/codecell'], function(codecell) {\n",
       "  codecell.CodeCell.options_default.highlight_modes[\n",
       "      'magic_text/x-csrc'] = {'reg':[/^%%microblaze/]};\n",
       "  Jupyter.notebook.events.one('kernel_ready.Kernel', function(){\n",
       "      Jupyter.notebook.get_cells().map(function(cell){\n",
       "          if (cell.cell_type == 'code'){ cell.auto_highlight(); } }) ;\n",
       "  });\n",
       "});\n"
      ]
     },
     "metadata": {},
     "output_type": "display_data"
    }
   ],
   "source": [
    "import numpy as np\n",
    "from sklearn import datasets\n",
    "from sklearn import pipeline\n",
    "from sklearn.model_selection import train_test_split\n",
    "from sklearn.linear_model import LinearRegression\n",
    "from pynq_sklearn.linear_model import PynqLinearRegression\n",
    "from pynq_sklearn.random_projection import PynqBinaryRandomProjection\n",
    "import timeit\n",
    "\n",
    "# Generate dataset\n",
    "X, y = datasets.make_regression(n_samples=5000, n_features=128, n_targets=10, random_state=0, noise=4.0,\n",
    "                       bias=10.0)\n",
    "X_train, X_test, y_train, y_test = train_test_split(X, y, test_size=1000, random_state=42)\n",
    "# Create a fixed point copy of X_test\n",
    "FRAC_WIDTH = 20\n",
    "X_test_hw = (X_test*(1<<FRAC_WIDTH)).astype(np.int32)"
   ]
  },
  {
   "cell_type": "markdown",
   "metadata": {},
   "source": [
    "### 1. Software Pipeline"
   ]
  },
  {
   "cell_type": "code",
   "execution_count": 2,
   "metadata": {},
   "outputs": [],
   "source": [
    "rp_sw = PynqBinaryRandomProjection(hw_accel=False)  \n",
    "lr_sw = PynqLinearRegression(fit_intercept=True, hw_accel=False) \n",
    "\n",
    "sw_pipe = pipeline.Pipeline([(\"dim_red\", rp_sw), (\"reg\", lr_sw)])\n",
    "sw_pipe.fit(X_train, y_train)\n",
    "ypred_sw = sw_pipe.predict(X_test)"
   ]
  },
  {
   "cell_type": "code",
   "execution_count": 3,
   "metadata": {},
   "outputs": [
    {
     "name": "stdout",
     "output_type": "stream",
     "text": [
      "Running the benchmark\n",
      "Time taken by sw_pipe 200 times 7.99265790499976\n"
     ]
    }
   ],
   "source": [
    "number=200\n",
    "def swresp():\n",
    "    ypred_sw = sw_pipe.predict(X_test)\n",
    "    return\n",
    "    \n",
    "print(\"Running the benchmark\")\n",
    "sw_time = timeit.timeit(swresp,number=number)\n",
    "print(\"Time taken by sw_pipe\", number,\"times\",sw_time)"
   ]
  },
  {
   "cell_type": "markdown",
   "metadata": {},
   "source": [
    "### 2. Hardware Pipeline"
   ]
  },
  {
   "cell_type": "markdown",
   "metadata": {},
   "source": [
    "<img src=\"imgs/pipe_problem.jpg\">\n",
    "<img src=\"imgs/pipe_slide.jpg\">"
   ]
  },
  {
   "cell_type": "markdown",
   "metadata": {},
   "source": [
    "### 1.) HW Only Pipeline"
   ]
  },
  {
   "cell_type": "markdown",
   "metadata": {},
   "source": [
    "###### i.)  fit() is done in software"
   ]
  },
  {
   "cell_type": "code",
   "execution_count": 4,
   "metadata": {},
   "outputs": [
    {
     "data": {
      "text/plain": [
       "Pipeline(memory=None,\n",
       "     steps=[('dim_red', PynqBinaryRandomProjection(hw_accel=False)), ('lreg', PynqLinearRegression(hw_accel=False))])"
      ]
     },
     "execution_count": 4,
     "metadata": {},
     "output_type": "execute_result"
    }
   ],
   "source": [
    "rp = PynqBinaryRandomProjection(hw_accel=False)\n",
    "lr = PynqLinearRegression(fit_intercept=True, hw_accel=False)\n",
    "\n",
    "hw_pipe = pipeline.Pipeline([(\"dim_red\", rp), (\"lreg\", lr)])\n",
    "hw_pipe.fit(X_train, y_train)"
   ]
  },
  {
   "cell_type": "markdown",
   "metadata": {},
   "source": [
    "###### ii.) Explicitly set_params so that hw_accel=True"
   ]
  },
  {
   "cell_type": "code",
   "execution_count": 5,
   "metadata": {},
   "outputs": [
    {
     "data": {
      "text/plain": [
       "Pipeline(memory=None,\n",
       "     steps=[('dim_red', PynqBinaryRandomProjection(hw_accel=True)), ('lreg', PynqLinearRegression(hw_accel=True))])"
      ]
     },
     "execution_count": 5,
     "metadata": {},
     "output_type": "execute_result"
    }
   ],
   "source": [
    "hw_pipe.set_params(dim_red__hw_accel=True, lreg__hw_accel=True)"
   ]
  },
  {
   "cell_type": "markdown",
   "metadata": {},
   "source": [
    "###### iii.) Copy X_test_hw to contiguous memory for better performance. If scatter gather DMA is used (i.e. multi_sg.bit) then this step is optional."
   ]
  },
  {
   "cell_type": "code",
   "execution_count": 6,
   "metadata": {},
   "outputs": [],
   "source": [
    "X_test_hw = rp.copy_array(X_test_hw, dtype=np.int32) # allocates X_test_hw to contiguous memory"
   ]
  },
  {
   "cell_type": "markdown",
   "metadata": {},
   "source": [
    "###### iv.) Offload transform() and predict() to HW for both PynqRandomProjection and PynqLinearRegression"
   ]
  },
  {
   "cell_type": "code",
   "execution_count": 7,
   "metadata": {},
   "outputs": [
    {
     "data": {
      "text/plain": [
       "ContiguousArray([[-1.84161023e-04,  2.91271868e-04, -1.86592293e-05, ...,\n",
       "                   1.10403365e-04,  4.23305522e-05, -1.53918539e-04],\n",
       "                 [-2.73144498e-04, -2.16451519e-04, -4.21972693e-04, ...,\n",
       "                  -2.96949725e-04,  1.14355569e-04, -3.77841649e-04],\n",
       "                 [ 6.09778628e-04,  2.37982448e-04,  2.12570337e-04, ...,\n",
       "                   3.98578975e-04,  3.48527769e-04,  2.10138772e-04],\n",
       "                 ...,\n",
       "                 [ 4.52665271e-04,  7.61498667e-04,  5.02601490e-04, ...,\n",
       "                   5.76496977e-04,  3.82906743e-04,  3.01686836e-04],\n",
       "                 [ 4.72639795e-05,  1.32685996e-05,  1.37225285e-04, ...,\n",
       "                   7.35078807e-04,  4.61792391e-04,  4.89451484e-04],\n",
       "                 [ 9.41509175e-04,  4.26235360e-04,  3.47638286e-04, ...,\n",
       "                   3.36902809e-04,  3.86004431e-04,  4.99078159e-04]])"
      ]
     },
     "execution_count": 7,
     "metadata": {},
     "output_type": "execute_result"
    }
   ],
   "source": [
    "ypred = hw_pipe.predict(X_test_hw)\n",
    "ypred_hw = ypred*(1.0/(1<<FRAC_WIDTH))\n",
    "(ypred_sw - ypred_hw)"
   ]
  },
  {
   "cell_type": "markdown",
   "metadata": {},
   "source": [
    "###### v.) Measure the pipeline performance "
   ]
  },
  {
   "cell_type": "code",
   "execution_count": 8,
   "metadata": {},
   "outputs": [
    {
     "name": "stdout",
     "output_type": "stream",
     "text": [
      "Running the benchmark\n",
      "Time taken by hw_pipe 200 times 0.5885646269998688\n",
      "HW Speedup = 13.58x\n"
     ]
    }
   ],
   "source": [
    "number=200\n",
    "def hwresp():\n",
    "    ypred = hw_pipe.predict(X_test_hw)\n",
    "    return\n",
    "    \n",
    "print(\"Running the benchmark\")\n",
    "hw_time = timeit.timeit(hwresp,number=number)\n",
    "print(\"Time taken by hw_pipe\", number,\"times\",hw_time)\n",
    "print(\"HW Speedup = %.2fx\"%(sw_time/hw_time))"
   ]
  },
  {
   "cell_type": "markdown",
   "metadata": {},
   "source": [
    "### 2.) HW/SW Pipeline\n",
    "Only works for the \"multi_sg.bit\". This bitstream/library uses scatter gather DMA for transferring the input data from PS to PL. This means we don't have to explicitly copy the numpy array into physical contiguous memory.  "
   ]
  },
  {
   "cell_type": "markdown",
   "metadata": {},
   "source": [
    "###### i.) Explicitly set_params so that hw_accel=True only for lreg accelerator"
   ]
  },
  {
   "cell_type": "code",
   "execution_count": 10,
   "metadata": {},
   "outputs": [
    {
     "data": {
      "text/plain": [
       "Pipeline(memory=None,\n",
       "     steps=[('dim_red', PynqBinaryRandomProjection(hw_accel=False)), ('lreg', PynqLinearRegression(hw_accel=True))])"
      ]
     },
     "execution_count": 10,
     "metadata": {},
     "output_type": "execute_result"
    }
   ],
   "source": [
    "hw_pipe.set_params(dim_red__hw_accel=False, lreg__hw_accel=True)"
   ]
  },
  {
   "cell_type": "markdown",
   "metadata": {},
   "source": [
    "###### ii.) Calling predict will only offload PynqLinearRegression to HW. Given that PynqBinaryRandomProjection is stage1 and is computed in SW, our input is floating point, and is non-contiguous. The output of stage1 is converted to fixed point before stage2. This significantly reduces the performance, but the pipeline still works."
   ]
  },
  {
   "cell_type": "code",
   "execution_count": 12,
   "metadata": {},
   "outputs": [
    {
     "data": {
      "text/plain": [
       "ContiguousArray([[-5.82392614e-06,  5.16957336e-06, -9.12248610e-06, ...,\n",
       "                  -1.45279705e-05,  2.27623091e-06, -1.56357627e-05],\n",
       "                 [ 1.96335167e-05,  2.67354312e-05,  2.72079101e-05, ...,\n",
       "                   4.54193547e-05,  4.56910182e-05,  2.93772837e-05],\n",
       "                 [ 3.47130152e-05,  1.19616351e-05,  2.94648687e-05, ...,\n",
       "                   2.28312941e-05,  1.76027816e-05,  1.94039087e-05],\n",
       "                 ...,\n",
       "                 [ 1.39750859e-05,  3.76598613e-05,  2.09959602e-05, ...,\n",
       "                   1.66901534e-05,  1.28811085e-05,  2.41676096e-05],\n",
       "                 [ 2.62831445e-05,  4.68553073e-06,  3.70894816e-05, ...,\n",
       "                   8.84876206e-05,  4.50367152e-05,  7.46031562e-05],\n",
       "                 [ 2.69355056e-05,  1.80627521e-05,  6.22288098e-06, ...,\n",
       "                  -4.51259649e-06,  2.07471683e-05,  3.06491188e-07]])"
      ]
     },
     "execution_count": 12,
     "metadata": {},
     "output_type": "execute_result"
    }
   ],
   "source": [
    "X_test_hw = X_test #(X_test*(1<<FRAC_WIDTH)).astype(np.int32)\n",
    "ypred = hw_pipe.predict(X_test_hw)\n",
    "ypred_hw = ypred*(1.0/(1<<FRAC_WIDTH))\n",
    "(ypred_sw - ypred_hw)"
   ]
  },
  {
   "cell_type": "code",
   "execution_count": null,
   "metadata": {},
   "outputs": [],
   "source": []
  }
 ],
 "metadata": {
  "kernelspec": {
   "display_name": "Python 3",
   "language": "python",
   "name": "python3"
  },
  "language_info": {
   "codemirror_mode": {
    "name": "ipython",
    "version": 3
   },
   "file_extension": ".py",
   "mimetype": "text/x-python",
   "name": "python",
   "nbconvert_exporter": "python",
   "pygments_lexer": "ipython3",
   "version": "3.6.0"
  }
 },
 "nbformat": 4,
 "nbformat_minor": 2
}
