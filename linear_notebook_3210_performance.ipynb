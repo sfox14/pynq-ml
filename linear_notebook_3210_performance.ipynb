{
 "cells": [
  {
   "cell_type": "markdown",
   "metadata": {},
   "source": [
    "# Performance: Linear Regression on PYNQ-Z1\n",
    "### n_features = 32, n_outputs=10"
   ]
  },
  {
   "cell_type": "markdown",
   "metadata": {},
   "source": [
    "#### 1. Setup CFFI SDSoC Binding (using ABI)"
   ]
  },
  {
   "cell_type": "code",
   "execution_count": 5,
   "metadata": {},
   "outputs": [],
   "source": [
    "import cffi\n",
    "from pynq import Overlay,PL,Xlnk\n",
    "import timeit\n",
    "import time\n",
    "import numpy as np\n",
    "\n",
    "\n",
    "#load bitstream\n",
    "libfile = \"./pynq_sklearn/libraries/liblreg_32_10.so\"\n",
    "bitfile = \"./pynq_sklearn/bitstreams/linear_32_10.bit\"\n",
    "\n",
    "#init cffi (this must be before mem_init() for some reason?)\n",
    "affi = cffi.FFI()\n",
    "affi.cdef(\"void _p0_LinReg_1_noasync(int * x, int a[320], int b[10], int * output, int datalen);\")\n",
    "alib = affi.dlopen(libfile)\n",
    "    \n",
    "xlnk = Xlnk()\n",
    "fir_overlay = Overlay(bitfile)\n",
    "if PL.bitfile_name != bitfile:\n",
    "    fir_overlay.download()\n",
    "\n",
    "#xlnk.xlnk_reset()\n",
    "def mem_init(buflen):\n",
    "    \"\"\" Allocate contiguous memory buffer\n",
    "    \"\"\"\n",
    "    buf = xlnk.cma_alloc(buflen)\n",
    "    return xlnk.cma_cast(buf, \"int\")\n",
    "\n",
    "number=2000\n",
    "dlen = n = 1000\n",
    "n_features = 32\n",
    "n_outputs = 10\n",
    "xin = np.ones(n*n_features, dtype=np.int32)\n",
    "#din = affi.cast(\"int *\", xin.ctypes.data)\n",
    "din = mem_init(n*n_features*4)\n",
    "a = mem_init(n_features*n_outputs*4)\n",
    "b = mem_init(n_outputs*4)\n",
    "dout = mem_init(n*n_outputs*4)"
   ]
  },
  {
   "cell_type": "markdown",
   "metadata": {},
   "source": [
    "#### 2. Setup Scikit-Learn Predict"
   ]
  },
  {
   "cell_type": "code",
   "execution_count": 2,
   "metadata": {},
   "outputs": [
    {
     "name": "stdout",
     "output_type": "stream",
     "text": [
      "<cdata 'int *' 0x923768> <cdata 'int *' 0x36f2a000> <cdata 'int *' 0x36f29000> <cdata 'int *' 0x2e91e000>\n"
     ]
    }
   ],
   "source": [
    "import numpy as np\n",
    "from sklearn import datasets\n",
    "from sklearn.linear_model import LinearRegression\n",
    "from sklearn.model_selection import train_test_split\n",
    "\n",
    "X, y = datasets.make_regression(n_samples=5000, n_features=32, n_targets=10, random_state=4, noise=4, bias=100)\n",
    "X_train, X_test, y_train, y_test = train_test_split(X, y, test_size=1000, random_state=42)\n",
    "X_test = X_test.astype(\"int32\")\n",
    "y_test = y_test.astype(\"int32\")\n",
    "\n",
    "lin = LinearRegression(fit_intercept=True)\n",
    "lin.fit(X_train, y_train)\n",
    "\n",
    "coef = lin.coef_.T.astype(\"int32\")\n",
    "intercept = lin.intercept_.astype(\"int32\")\n",
    "print(din, a, b, dout)"
   ]
  },
  {
   "cell_type": "markdown",
   "metadata": {},
   "source": [
    "#### 3. Compare time"
   ]
  },
  {
   "cell_type": "code",
   "execution_count": 4,
   "metadata": {},
   "outputs": [
    {
     "name": "stdout",
     "output_type": "stream",
     "text": [
      "Running the benchmarks\n",
      "Time taken by sklearn 2000 times 7.69411593300174\n",
      "Time taken by abi 2000 times 1.8133551720093237\n",
      "HW Speedup = 4x\n"
     ]
    }
   ],
   "source": [
    "def sklearn():\n",
    "    return np.dot(X_test, coef) + intercept\n",
    "    #lin.predict(X_test)\n",
    "\n",
    "# call ABI accelerator\n",
    "def abiresp():\n",
    "    alib._p0_LinReg_1_noasync(din,a,b,dout,dlen)\n",
    "    \n",
    "print(\"Running the benchmarks\")\n",
    "abi_time = timeit.timeit(abiresp,number=number)\n",
    "sklearn_time = timeit.timeit(sklearn,number=number)\n",
    "\n",
    "print(\"Time taken by sklearn\", number,\"times\",sklearn_time)\n",
    "print(\"Time taken by abi\", number,\"times\",abi_time)\n",
    "print(\"HW Speedup = %dx\"%(sklearn_time/abi_time))"
   ]
  },
  {
   "cell_type": "code",
   "execution_count": null,
   "metadata": {},
   "outputs": [],
   "source": []
  }
 ],
 "metadata": {
  "kernelspec": {
   "display_name": "Python 3",
   "language": "python",
   "name": "python3"
  },
  "language_info": {
   "codemirror_mode": {
    "name": "ipython",
    "version": 3
   },
   "file_extension": ".py",
   "mimetype": "text/x-python",
   "name": "python",
   "nbconvert_exporter": "python",
   "pygments_lexer": "ipython3",
   "version": "3.6.0"
  }
 },
 "nbformat": 4,
 "nbformat_minor": 2
}
