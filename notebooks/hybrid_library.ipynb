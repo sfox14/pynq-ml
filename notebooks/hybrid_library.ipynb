{
 "cells": [
  {
   "cell_type": "markdown",
   "metadata": {},
   "source": [
    "# Intro: HybridLibrary\n",
    "To fully integrate PYNQ with Scikit-Learn, we need Scikit-learn compatible APIs which accept hybrid libraries as arguments. A hybrid library is a way of packaging bitstreams, and their associated C drivers and Python APIs/properties. For this project we also have a hybrid registry, which is simply a collection (or python dict) of hybrid libraries and their attributes. All of our Scikit-learn PYNQ classes unpack a HybridLibrary object at __init__, which contains a set of mandatory attributes."
   ]
  },
  {
   "cell_type": "markdown",
   "metadata": {},
   "source": [
    "### 1. Create HybridLibrary:\n",
    "A hybrid library can be created using the HybridLibrary class and passing a dict as arguments "
   ]
  },
  {
   "cell_type": "code",
   "execution_count": 1,
   "metadata": {},
   "outputs": [
    {
     "data": {
      "application/javascript": [
       "\n",
       "require(['notebook/js/codecell'], function(codecell) {\n",
       "  codecell.CodeCell.options_default.highlight_modes[\n",
       "      'magic_text/x-csrc'] = {'reg':[/^%%microblaze/]};\n",
       "  Jupyter.notebook.events.one('kernel_ready.Kernel', function(){\n",
       "      Jupyter.notebook.get_cells().map(function(cell){\n",
       "          if (cell.cell_type == 'code'){ cell.auto_highlight(); } }) ;\n",
       "  });\n",
       "});\n"
      ]
     },
     "metadata": {},
     "output_type": "display_data"
    },
    {
     "ename": "AttributeError",
     "evalue": "HybridLibrary requires attribute: library",
     "output_type": "error",
     "traceback": [
      "\u001b[0;31m---------------------------------------------------------------------------\u001b[0m",
      "\u001b[0;31mAttributeError\u001b[0m                            Traceback (most recent call last)",
      "\u001b[0;32m<ipython-input-1-a35b96b3198e>\u001b[0m in \u001b[0;36m<module>\u001b[0;34m()\u001b[0m\n\u001b[1;32m      9\u001b[0m \u001b[0;34m\u001b[0m\u001b[0m\n\u001b[1;32m     10\u001b[0m \u001b[0margs\u001b[0m \u001b[0;34m=\u001b[0m \u001b[0;34m{\u001b[0m\u001b[0;34m\"bitstream\"\u001b[0m\u001b[0;34m:\u001b[0m \u001b[0;34m\"pipe\"\u001b[0m\u001b[0;34m,\u001b[0m \u001b[0;34m\"dtype\"\u001b[0m\u001b[0;34m:\u001b[0m \u001b[0mnp\u001b[0m\u001b[0;34m.\u001b[0m\u001b[0mint32\u001b[0m\u001b[0;34m}\u001b[0m\u001b[0;34m\u001b[0m\u001b[0m\n\u001b[0;32m---> 11\u001b[0;31m \u001b[0mlib\u001b[0m \u001b[0;34m=\u001b[0m \u001b[0mHybridLibrary\u001b[0m\u001b[0;34m(\u001b[0m\u001b[0;34m**\u001b[0m\u001b[0margs\u001b[0m\u001b[0;34m)\u001b[0m\u001b[0;34m\u001b[0m\u001b[0m\n\u001b[0m",
      "\u001b[0;32m/home/xilinx/jupyter_notebooks/pynq-ml/pynq_sklearn/register.py\u001b[0m in \u001b[0;36m__init__\u001b[0;34m(self, **kwargs)\u001b[0m\n\u001b[1;32m    138\u001b[0m         \u001b[0;32mfor\u001b[0m \u001b[0marg\u001b[0m\u001b[0;34m,\u001b[0m \u001b[0mval\u001b[0m \u001b[0;32min\u001b[0m \u001b[0mkwargs\u001b[0m\u001b[0;34m.\u001b[0m\u001b[0mitems\u001b[0m\u001b[0;34m(\u001b[0m\u001b[0;34m)\u001b[0m\u001b[0;34m:\u001b[0m\u001b[0;34m\u001b[0m\u001b[0m\n\u001b[1;32m    139\u001b[0m             \u001b[0msetattr\u001b[0m\u001b[0;34m(\u001b[0m\u001b[0mself\u001b[0m\u001b[0;34m,\u001b[0m \u001b[0marg\u001b[0m\u001b[0;34m,\u001b[0m \u001b[0mval\u001b[0m\u001b[0;34m)\u001b[0m\u001b[0;34m\u001b[0m\u001b[0m\n\u001b[0;32m--> 140\u001b[0;31m         \u001b[0mRegistry\u001b[0m\u001b[0;34m.\u001b[0m\u001b[0mcheck_lib\u001b[0m\u001b[0;34m(\u001b[0m\u001b[0mself\u001b[0m\u001b[0;34m)\u001b[0m\u001b[0;34m\u001b[0m\u001b[0m\n\u001b[0m\u001b[1;32m    141\u001b[0m \u001b[0;34m\u001b[0m\u001b[0m\n\u001b[1;32m    142\u001b[0m     \u001b[0;32mdef\u001b[0m \u001b[0m__repr__\u001b[0m\u001b[0;34m(\u001b[0m\u001b[0mself\u001b[0m\u001b[0;34m)\u001b[0m\u001b[0;34m:\u001b[0m\u001b[0;34m\u001b[0m\u001b[0m\n",
      "\u001b[0;32m/home/xilinx/jupyter_notebooks/pynq-ml/pynq_sklearn/register.py\u001b[0m in \u001b[0;36mcheck_lib\u001b[0;34m(lib)\u001b[0m\n\u001b[1;32m    161\u001b[0m             \u001b[0;32mif\u001b[0m \u001b[0;32mnot\u001b[0m \u001b[0mhasattr\u001b[0m\u001b[0;34m(\u001b[0m\u001b[0mlib\u001b[0m\u001b[0;34m,\u001b[0m \u001b[0marg\u001b[0m\u001b[0;34m)\u001b[0m\u001b[0;34m:\u001b[0m\u001b[0;34m\u001b[0m\u001b[0m\n\u001b[1;32m    162\u001b[0m                 raise AttributeError(\"HybridLibrary requires attribute: %s\"\n\u001b[0;32m--> 163\u001b[0;31m                                      %arg)\n\u001b[0m\u001b[1;32m    164\u001b[0m \u001b[0;34m\u001b[0m\u001b[0m\n",
      "\u001b[0;31mAttributeError\u001b[0m: HybridLibrary requires attribute: library"
     ]
    }
   ],
   "source": [
    "import numpy as np\n",
    "import os\n",
    "import sys\n",
    "from pynq_sklearn import HybridLibrary\n",
    "\n",
    "args = {\"bitstream\": \"pipe\", \"dtype\": np.int32}\n",
    "lib = HybridLibrary(**args)"
   ]
  },
  {
   "cell_type": "markdown",
   "metadata": {},
   "source": [
    "An AttributeError is thrown because we have not specified all of the required attributes. Below is a complete list of all required attributes. This will correctly generate a HybridLibrary which can be unpacked by an application class (eg. PynqLogisticRegression). You can also provide more attributes if you wish. This may be important for generalising your Python class for compatibility with multiple bitstreams. "
   ]
  },
  {
   "cell_type": "code",
   "execution_count": 2,
   "metadata": {},
   "outputs": [
    {
     "name": "stdout",
     "output_type": "stream",
     "text": [
      "HybridLibrary(): {'bitstream': 'pipe.bit', 'library': 'libpipe.so', 'dma_sg': False, 'pipe': True, 'c_callable': ' void _p0_Pipe_1_noasync(int *x, int a[320], int b[10], int *output, int datalen); ', 'input_width': 128, 'output_width': 10}\n"
     ]
    }
   ],
   "source": [
    "args = {\"bitstream\": \"pipe.bit\",\n",
    "        \"library\": \"libpipe.so\",\n",
    "        \"dma_sg\": False,\n",
    "        \"pipe\": True,\n",
    "        \"c_callable\": \"\"\" void _p0_Pipe_1_noasync(int *x, int a[320], int b[10], int *output, int datalen); \"\"\",\n",
    "        \"input_width\": 128,\n",
    "        \"output_width\": 10}\n",
    "lib = HybridLibrary(**args)\n",
    "print(lib)"
   ]
  },
  {
   "cell_type": "markdown",
   "metadata": {},
   "source": [
    "**Note:** You don't need to provide the absolute path for bitstream and lib, only the name. The \".bit\" and \".so\" files should be packaged in \"pynq_sklearn/bitstreams\" and \"pynq_sklearn/libraries\". When an application unpacks the HybridLibrary object, it should look for them in there."
   ]
  },
  {
   "cell_type": "markdown",
   "metadata": {},
   "source": [
    "### 2. Load from Registry\n",
    "Consider adding new hybrid libraries to the registery for easier reuse. You can do this manually by editing \"register.py\"."
   ]
  },
  {
   "cell_type": "code",
   "execution_count": 3,
   "metadata": {},
   "outputs": [
    {
     "name": "stdout",
     "output_type": "stream",
     "text": [
      "HybridLibrary(): {'bitstream': 'pipe.bit', 'library': 'libpipe.so', 'dma_sg': False, 'pipe': True, 'c_callable': ' void _p0_Pipe_1_noasync(int *x, int a[320], int b[10], int *output, int datalen); ', 'input_width': 128, 'output_width': 10}\n"
     ]
    }
   ],
   "source": [
    "from pynq_sklearn import Registry\n",
    "\n",
    "lib = Registry.load(\"pipe\")\n",
    "print(lib)"
   ]
  }
 ],
 "metadata": {
  "kernelspec": {
   "display_name": "Python 3",
   "language": "python",
   "name": "python3"
  },
  "language_info": {
   "codemirror_mode": {
    "name": "ipython",
    "version": 3
   },
   "file_extension": ".py",
   "mimetype": "text/x-python",
   "name": "python",
   "nbconvert_exporter": "python",
   "pygments_lexer": "ipython3",
   "version": "3.6.0"
  }
 },
 "nbformat": 4,
 "nbformat_minor": 2
}
