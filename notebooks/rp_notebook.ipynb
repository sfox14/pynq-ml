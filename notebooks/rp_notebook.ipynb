{
 "cells": [
  {
   "cell_type": "markdown",
   "metadata": {},
   "source": [
    "# Random Projection on PYNQ-Z1\n",
    "### Introduction:\n",
    "\n",
    "This example performs dimensionality reduction via random projection on the PYNQ-Z1. In a random projection, the original m-dimensional data are projected to a lower k-dimensional space via a single multiplication of a randomly generated matrix $W_{m\\times k}$.\n",
    "\n",
    "$$X_{n\\times k}^{new}=X_{n\\times m}W_{m\\times k}$$\n",
    "\n",
    "Surprisingly, random mappings are capable of maintaining the pair-wise distances of points in the original high dimensional space. This finding is a key result of the **Johnson-Lindenstrauss lemma**. The elements $r_{ij}$ of $R$ are often chosen as Gaussian distributed, but for streaming applications or massively high-dimensional problems, simpler distributions may be preferred such as the one given below:\n",
    "\n",
    "\n",
    "$$\n",
    "r_{ij} = \\sqrt{\\frac{s}{k}} \\times \\begin{cases} \n",
    "      1  \\:\\:\\:\\:\\: with \\: prob. \\:\\:\\: 1/(2s)\\\\\n",
    "      0  \\:\\:\\:\\:\\: with \\: prob. \\:\\:\\: (1 - 1/s)\\\\\n",
    "      -1 \\:\\:\\:\\:\\: with \\: prob. \\:\\:\\: 1/(2s)\n",
    "   \\end{cases}\n",
    "$$\n",
    "\n",
    "\n",
    "This distribution also defines the implementation of **sklearn.random_projection.SparseRandomProjection**, where s refers to the density or sparsity of the matrix. Our version is similar, except we fix s=1 and thus every entry is either +1 or -1. We call this a binary random projection.\n",
    "\n",
    "A binary random projection is highly amenable to a hardware implementation. This is because the majority of operations involve only addition and subtraction (multiplication of the scaling term is elementwise on the output), and the random locations of each +1 and -1 can be generated using Linear Feedback Shift Registers (LFSR) using logic in the FPGA. This means that memory requirements are very low (even for massive matrices), and we only need to store the LFSR seeds which are used to re-initialise the pseudo random number generators for each new input.\n",
    "\n",
    "Given that our hardware random number generators are very different from software, we can not directly compare accuracy with the existing Scikit-learn random projection. Instead, we must evaluate our hardware random projection by a.) checking whether distances are preserved, and b.) combining with other machine learning estimators in a pipeline. We show both of these examples in this notebook. \n",
    "\n",
    "We have developed the PynqBinaryRandomProjection class (in pynq_sklearn/random_projection/random_projection.py) which wraps a hybrid library containing the FPGA bitstream and C driver. This class inherits from sklearn.linear_model.SparseRandomProjection and overrides _make_random_matrix() and transform() methods when hw_accel=True. When hw_accel=False, this class will replicate the hardware but perform the random projection in software. "
   ]
  },
  {
   "cell_type": "markdown",
   "metadata": {},
   "source": [
    "### Hybrid Library:\n",
    "We will use **rp_multi_sg** which contains the bitstream, C API and python attributes for the PynqBinaryRandomProjection class. **Note:** This library supports a fixed size FPGA accelerator with **n_features=128** and **n_compnents=32** (i.e. the problem size/shape is not customisable post bitstream)."
   ]
  },
  {
   "cell_type": "code",
   "execution_count": 1,
   "metadata": {},
   "outputs": [
    {
     "data": {
      "application/javascript": [
       "\n",
       "require(['notebook/js/codecell'], function(codecell) {\n",
       "  codecell.CodeCell.options_default.highlight_modes[\n",
       "      'magic_text/x-csrc'] = {'reg':[/^%%microblaze/]};\n",
       "  Jupyter.notebook.events.one('kernel_ready.Kernel', function(){\n",
       "      Jupyter.notebook.get_cells().map(function(cell){\n",
       "          if (cell.cell_type == 'code'){ cell.auto_highlight(); } }) ;\n",
       "  });\n",
       "});\n"
      ]
     },
     "metadata": {},
     "output_type": "display_data"
    },
    {
     "name": "stdout",
     "output_type": "stream",
     "text": [
      "HybridLibrary(): {'bitstream': 'multi_sg.bit', 'library': 'libmulti_sg.so', 'dma_sg': True, 'pipe': False, 'c_callable': ' void _p0_RandomProjection_1_noasync(int *x, int *output, int datalen); ', 'input_width': 128, 'output_width': 32}\n"
     ]
    }
   ],
   "source": [
    "import os\n",
    "import sys\n",
    "module_path = os.path.abspath(os.path.join('..'))\n",
    "if module_path not in sys.path:\n",
    "    sys.path.append(module_path)\n",
    "\n",
    "from pynq_sklearn import HybridLibrary, Registry\n",
    "\n",
    "lib = Registry.load(\"rp_multi_sg\")\n",
    "print(lib)"
   ]
  },
  {
   "cell_type": "markdown",
   "metadata": {},
   "source": [
    "### Hardware Accelerator:\n",
    "\n",
    "Our design looks like a typical matrix multiplier with (n_classes=32) parallel dot products. However, the dot product module does not involve any multiplications. Rather we multiplex the input and the two's complement based on one bit from a LFSR. The seeds and scaling factor are known at compile time and are not customisable post bitsream. \n",
    "\n",
    "<img src=\"imgs/random_projection.jpg\">"
   ]
  },
  {
   "cell_type": "markdown",
   "metadata": {},
   "source": [
    "### Generate Dataset:\n",
    "We generate a dataset with **n_features=128** and n_classes=10. We have specified n_classes<**n_components=32** because we will perform classification on this data later."
   ]
  },
  {
   "cell_type": "code",
   "execution_count": 2,
   "metadata": {},
   "outputs": [],
   "source": [
    "import numpy as np\n",
    "from sklearn import datasets\n",
    "import time\n",
    "\n",
    "X, y = datasets.make_blobs(n_samples=1000, n_features=128, centers=10, cluster_std=5, random_state=43)\n",
    "#X, y = datasets.make_classification(n_samples=1000, n_features=128, n_classes=10, random_state=43, n_informative=20)"
   ]
  },
  {
   "cell_type": "markdown",
   "metadata": {},
   "source": [
    "### PYNQ Random Projection:\n",
    "\n",
    "Here we will demonstrate random projection using software and hardware.\n",
    "\n",
    "**Compatible Bitsreams: multi.bit (HP) rp_128_32.bit (HP) multi_sg.bit (SG) rp_128_32_sg.bit (SG)**. (HP) refers to high performance DMA and (SG) refers to scatter gather DMA. The bitstream is hardcoded in PynqBinaryRandomProjection, however, we can check the bitstream using the native pynq.PL library."
   ]
  },
  {
   "cell_type": "code",
   "execution_count": 3,
   "metadata": {},
   "outputs": [
    {
     "name": "stdout",
     "output_type": "stream",
     "text": [
      "/home/xilinx/jupyter_notebooks/pynq-ml/pynq_sklearn/bitstreams/pipe.bit\n"
     ]
    }
   ],
   "source": [
    "from pynq import PL\n",
    "print(PL.bitfile_name)"
   ]
  },
  {
   "cell_type": "markdown",
   "metadata": {},
   "source": [
    "##### 1. Fit a PYNQ Random Projection\n",
    "This just generates a software replica of the random matrix in hardware. We can print the random matrix and see that the scaling factor equals $\\sqrt{\\frac{1}{32}}$"
   ]
  },
  {
   "cell_type": "code",
   "execution_count": 4,
   "metadata": {},
   "outputs": [
    {
     "name": "stdout",
     "output_type": "stream",
     "text": [
      "[[ 0.1767767 -0.1767767 -0.1767767 ...  0.1767767  0.1767767 -0.1767767]\n",
      " [ 0.1767767 -0.1767767 -0.1767767 ... -0.1767767  0.1767767 -0.1767767]\n",
      " [ 0.1767767 -0.1767767  0.1767767 ... -0.1767767  0.1767767 -0.1767767]\n",
      " ...\n",
      " [ 0.1767767 -0.1767767  0.1767767 ... -0.1767767 -0.1767767  0.1767767]\n",
      " [ 0.1767767  0.1767767  0.1767767 ...  0.1767767 -0.1767767  0.1767767]\n",
      " [ 0.1767767 -0.1767767 -0.1767767 ... -0.1767767 -0.1767767 -0.1767767]]\n"
     ]
    }
   ],
   "source": [
    "from pynq_sklearn.random_projection import PynqBinaryRandomProjection\n",
    "\n",
    "model = PynqBinaryRandomProjection(hw=lib)\n",
    "model.fit(X, y)\n",
    "\n",
    "print(model.components_)"
   ]
  },
  {
   "cell_type": "markdown",
   "metadata": {},
   "source": [
    "##### 2. FPGA compatible copy of X\n",
    "Our FPGA accelerator expects 32-bit fixed point numbers (with 20 fractional bits). We also copy the array into physically contiguous memory to avoid expensive virtual address mapping. \n",
    "\n",
    "**Note:** This last step is mandatory for bitstreams that assume the input is physically contiguous. For bitstreams which use the scatter-gather DMA, the hybrid library will map the virtual addresses within the function call. This hinders the performance significantly."
   ]
  },
  {
   "cell_type": "code",
   "execution_count": 5,
   "metadata": {},
   "outputs": [],
   "source": [
    "# prepare X_test and y_test for HW\n",
    "FRAC_WIDTH = 20\n",
    "X_hw = (X*(1<<FRAC_WIDTH)).astype(np.int32)\n",
    "X_hw = model.copy_array(X_hw, dtype=np.int32) # allocates X_test_hw to contiguous memory"
   ]
  },
  {
   "cell_type": "markdown",
   "metadata": {},
   "source": [
    "##### 3. With hw_accel=True, deploy transform on the FPGA "
   ]
  },
  {
   "cell_type": "code",
   "execution_count": 6,
   "metadata": {},
   "outputs": [],
   "source": [
    "model.hw_accel=True\n",
    "brp_hw = model.transform(X_hw)"
   ]
  },
  {
   "cell_type": "markdown",
   "metadata": {},
   "source": [
    "##### 3. Alternatively, deploy in SW"
   ]
  },
  {
   "cell_type": "code",
   "execution_count": 7,
   "metadata": {},
   "outputs": [],
   "source": [
    "model.hw_accel=False\n",
    "brp_sw = model.transform(X)"
   ]
  },
  {
   "cell_type": "markdown",
   "metadata": {},
   "source": [
    "##### 4. Verify equivalence\n",
    "Any errors/differences are attributable to fixed point rounding errors in the FPGA."
   ]
  },
  {
   "cell_type": "code",
   "execution_count": 8,
   "metadata": {},
   "outputs": [
    {
     "name": "stdout",
     "output_type": "stream",
     "text": [
      "Approximately equal = True\n",
      "Max. error = 0.0002509701377491069\n"
     ]
    }
   ],
   "source": [
    "brp_hw = brp_hw*(1.0/(1<<FRAC_WIDTH))\n",
    "print(\"Approximately equal =\",np.allclose(brp_hw, brp_sw, rtol=1e-2))\n",
    "print(\"Max. error =\", np.max((brp_hw - brp_sw)))"
   ]
  },
  {
   "cell_type": "markdown",
   "metadata": {},
   "source": [
    "##### 5. Performance Comparison\n",
    "Using the FPGA, we can observe a significant speedup over a software-only implementation. Since we are only using a small amount of the FPGA, we can expect even better speedups on larger problems (i.e. larger n_features and n_components). "
   ]
  },
  {
   "cell_type": "code",
   "execution_count": 9,
   "metadata": {},
   "outputs": [
    {
     "name": "stdout",
     "output_type": "stream",
     "text": [
      "Time taken by sklearn 200 times 6.786889135000138\n",
      "Time taken by sklearn+fpga 200 times 0.3946293559999958\n",
      "HW Speedup = 17.20x\n"
     ]
    }
   ],
   "source": [
    "import timeit\n",
    "number=200\n",
    "\n",
    "model.hw_accel=True\n",
    "def hwresp():\n",
    "    out = model.transform(X_hw) #, out=outBuffer)\n",
    "    return\n",
    "    \n",
    "hw_time = timeit.timeit(hwresp,number=number)\n",
    "\n",
    "model.hw_accel=False\n",
    "def swresp():\n",
    "    out = model.transform(X)\n",
    "    return\n",
    "\n",
    "sw_time = timeit.timeit(swresp,number=number)\n",
    "\n",
    "print(\"Time taken by sklearn\", number,\"times\",sw_time)\n",
    "print(\"Time taken by sklearn+fpga\", number,\"times\",hw_time)\n",
    "print(\"HW Speedup = %.2fx\"%(sw_time/hw_time))"
   ]
  },
  {
   "cell_type": "markdown",
   "metadata": {},
   "source": [
    "### Evaluation (PynqBinaryRandomProjection):\n",
    "Here we validate our random projection. This is done by observing the pairwise distances of the transformed inputs, and by using PynqBinaryRandomProjection as stage 1 of a classification pipeline. If our implementation is correct we should observe that relative pairwise distances are mostly preserved and classification accuracy is not significantly diminished."
   ]
  },
  {
   "cell_type": "markdown",
   "metadata": {},
   "source": [
    "##### 1. Plot: Pairwise Distances\n",
    "Random projection maintains pairwise distances in a lower-dimensional space (to within a small error). We compare PynqBinaryRandomProjection, sklearn.random_projection.SparseRandomProjection, sklearn.random_projection.GaussianRandomProjection and sklearn.decomposition.PCA. Random projection finds an approximation to PCA which finds the optimal subspace."
   ]
  },
  {
   "cell_type": "code",
   "execution_count": 10,
   "metadata": {},
   "outputs": [],
   "source": [
    "%matplotlib inline\n",
    "import matplotlib.pyplot as plt\n",
    "from sklearn.metrics.pairwise import euclidean_distances\n",
    "from sklearn.random_projection import GaussianRandomProjection, SparseRandomProjection\n",
    "from sklearn.decomposition import PCA\n",
    "from sklearn.metrics.pairwise import euclidean_distances\n",
    "\n",
    "n_components=32\n",
    "\n",
    "grp = GaussianRandomProjection(n_components=32)\n",
    "srp = SparseRandomProjection(n_components=32)\n",
    "pca = PCA(n_components=32)\n",
    "\n",
    "# Random Projection and PCA transforms \n",
    "brp_out = brp_hw\n",
    "grp_out = grp.fit_transform(X)\n",
    "srp_out = srp.fit_transform(X)\n",
    "pca_out = pca.fit_transform(X)\n",
    "\n",
    "# Original data pairwise distances\n",
    "dists = euclidean_distances(X, squared=True).ravel()\n",
    "# select only non-identical samples pairs\n",
    "nonzero = dists != 0\n",
    "dists = dists[nonzero]\n",
    "\n",
    "# Projection pairwise distances\n",
    "brp_dists = euclidean_distances(brp_out, squared=True).ravel()[nonzero]\n",
    "srp_dists = euclidean_distances(srp_out, squared=True).ravel()[nonzero]\n",
    "grp_dists = euclidean_distances(grp_out, squared=True).ravel()[nonzero]\n",
    "pca_dists = euclidean_distances(pca_out, squared=True).ravel()[nonzero]"
   ]
  },
  {
   "cell_type": "code",
   "execution_count": 11,
   "metadata": {},
   "outputs": [
    {
     "data": {
      "image/png": "[encoded data removed]",
      "text/plain": [
       "<matplotlib.figure.Figure at 0x2bee1530>"
      ]
     },
     "metadata": {},
     "output_type": "display_data"
    }
   ],
   "source": [
    "fig, ((ax1, ax2), (ax3, ax4)) = plt.subplots(nrows=2, ncols=2, sharex='col', sharey='row')\n",
    "fig.tight_layout()\n",
    "fig.text(0.5, -0.04, \"Pairwise squared distances in original space\", ha='center', va='center')\n",
    "fig.text(-0.04, 0.5, \"Pairwise squared distances in projected space\", ha='center', va='center', rotation='vertical')\n",
    "\n",
    "ax1.hexbin(dists, brp_dists, gridsize=100, cmap=plt.cm.PuBu)\n",
    "ax1.set_title(\"Binary RP (=%d)\"%n_components)\n",
    "\n",
    "ax2.hexbin(dists, srp_dists, gridsize=100, cmap=plt.cm.PuBu)\n",
    "ax2.set_title(\"Sparse RP (=%d)\"%srp.n_components)\n",
    "\n",
    "ax3.hexbin(dists, grp_dists, gridsize=100, cmap=plt.cm.PuBu)\n",
    "ax3.set_title(\"Gaussian RP (=%d)\"%grp.n_components)\n",
    "\n",
    "ax4.hexbin(dists, pca_dists, gridsize=100, cmap=plt.cm.PuBu)\n",
    "ax4.set_title(\"PCA (=%d)\"%pca.n_components)\n",
    "\n",
    "plt.show()"
   ]
  },
  {
   "cell_type": "markdown",
   "metadata": {},
   "source": [
    "##### 2. Machine Learning Pipeline\n"
   ]
  },
  {
   "cell_type": "code",
   "execution_count": 12,
   "metadata": {},
   "outputs": [
    {
     "name": "stdout",
     "output_type": "stream",
     "text": [
      "Binary Random Projection Acc =  0.985\n",
      "Sparse Random Projection Acc =  0.99\n",
      "Gaussian Random Projection Acc =  0.99\n"
     ]
    }
   ],
   "source": [
    "from sklearn.model_selection import train_test_split\n",
    "from sklearn import pipeline\n",
    "from sklearn.svm import LinearSVC\n",
    "\n",
    "X_train, X_test, y_train, y_test = train_test_split(X, y, test_size=200, random_state=42)\n",
    "\n",
    "clf = LinearSVC()\n",
    "pipe_brp = pipeline.Pipeline([(\"dim_red\", model), (\"clf\", clf)])\n",
    "pipe_brp.set_params(dim_red__hw_accel=False)\n",
    "pipe_brp.fit(X_train, y_train)\n",
    "score_brp = pipe_brp.score(X_test, y_test)\n",
    "\n",
    "pipe_srp = pipeline.Pipeline([(\"dim_red\", srp), (\"clf\", clf)])\n",
    "pipe_srp.set_params(dim_red__n_components=32, dim_red__density=1)\n",
    "pipe_srp.fit(X_train, y_train)\n",
    "score_srp = pipe_srp.score(X_test, y_test)\n",
    "\n",
    "pipe_grp = pipeline.Pipeline([(\"dim_red\", grp), (\"clf\", clf)])\n",
    "pipe_grp.set_params(dim_red__n_components=32)\n",
    "pipe_grp.fit(X_train, y_train)\n",
    "score_grp = pipe_grp.score(X_test, y_test)\n",
    "\n",
    "print(\"Binary Random Projection Acc = \", score_brp)\n",
    "print(\"Sparse Random Projection Acc = \", score_srp)\n",
    "print(\"Gaussian Random Projection Acc = \", score_srp)"
   ]
  },
  {
   "cell_type": "markdown",
   "metadata": {},
   "source": [
    "When we're finished we should free all CMA buffers."
   ]
  },
  {
   "cell_type": "code",
   "execution_count": 13,
   "metadata": {},
   "outputs": [],
   "source": [
    "model.xlnk.xlnk_reset()"
   ]
  }
 ],
 "metadata": {
  "kernelspec": {
   "display_name": "Python 3",
   "language": "python",
   "name": "python3"
  },
  "language_info": {
   "codemirror_mode": {
    "name": "ipython",
    "version": 3
   },
   "file_extension": ".py",
   "mimetype": "text/x-python",
   "name": "python",
   "nbconvert_exporter": "python",
   "pygments_lexer": "ipython3",
   "version": "3.6.0"
  }
 },
 "nbformat": 4,
 "nbformat_minor": 2
}
