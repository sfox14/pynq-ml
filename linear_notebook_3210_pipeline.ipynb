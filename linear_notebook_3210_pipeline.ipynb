{
 "cells": [
  {
   "cell_type": "markdown",
   "metadata": {},
   "source": [
    "# Linear Regression + Pipeline on PYNQ-Z1\n",
    "### n_features = 32, n_outputs=10"
   ]
  },
  {
   "cell_type": "code",
   "execution_count": 1,
   "metadata": {},
   "outputs": [
    {
     "data": {
      "application/javascript": [
       "\n",
       "require(['notebook/js/codecell'], function(codecell) {\n",
       "  codecell.CodeCell.options_default.highlight_modes[\n",
       "      'magic_text/x-csrc'] = {'reg':[/^%%microblaze/]};\n",
       "  Jupyter.notebook.events.one('kernel_ready.Kernel', function(){\n",
       "      Jupyter.notebook.get_cells().map(function(cell){\n",
       "          if (cell.cell_type == 'code'){ cell.auto_highlight(); } }) ;\n",
       "  });\n",
       "});\n"
      ]
     },
     "metadata": {},
     "output_type": "display_data"
    }
   ],
   "source": [
    "import numpy as np\n",
    "from sklearn import datasets\n",
    "from pynq_sklearn.linear_model import PynqLinearRegression\n",
    "from sklearn import pipeline\n",
    "from sklearn.model_selection import train_test_split\n",
    "from sklearn.kernel_approximation import RBFSampler\n",
    "import time\n",
    "\n",
    "\n",
    "# Generate dataset of Ints\n",
    "X, y = datasets.make_regression(n_samples=5000, n_features=10, n_targets=10, random_state=0, noise=4.0,\n",
    "                       bias=100.0)\n",
    "X_train, X_test, y_train, y_test = train_test_split(X, y, test_size=10, random_state=42)\n",
    "X_test = np.abs((X_test*(2**20)).astype(\"int32\"))\n",
    "y_test = np.abs((y_test*(2**20)).astype(\"int32\"))\n"
   ]
  },
  {
   "cell_type": "markdown",
   "metadata": {},
   "source": [
    "#### 1. Define stages of Pipeline"
   ]
  },
  {
   "cell_type": "code",
   "execution_count": 2,
   "metadata": {},
   "outputs": [],
   "source": [
    "lin = PynqLinearRegression(fit_intercept=True, hw_accel=True) # offloaded to FPGA\n",
    "feature_map_fourier = RBFSampler(gamma=.2, random_state=1) # Kept in SW for now"
   ]
  },
  {
   "cell_type": "markdown",
   "metadata": {},
   "source": [
    "#### 2. Create Pipeline and set_params"
   ]
  },
  {
   "cell_type": "code",
   "execution_count": 3,
   "metadata": {},
   "outputs": [
    {
     "data": {
      "text/plain": [
       "Pipeline(memory=None,\n",
       "     steps=[('feature_map', RBFSampler(gamma=0.2, n_components=32, random_state=1)), ('reg', PynqLinearRegression(hw_accel=True))])"
      ]
     },
     "execution_count": 3,
     "metadata": {},
     "output_type": "execute_result"
    }
   ],
   "source": [
    "fourier_approx_pipe = pipeline.Pipeline([(\"feature_map\", feature_map_fourier), (\"reg\", lin)])\n",
    "fourier_approx_pipe.set_params(feature_map__n_components=32)"
   ]
  },
  {
   "cell_type": "markdown",
   "metadata": {},
   "source": [
    "#### 3. Fit()"
   ]
  },
  {
   "cell_type": "code",
   "execution_count": 4,
   "metadata": {},
   "outputs": [
    {
     "data": {
      "text/plain": [
       "Pipeline(memory=None,\n",
       "     steps=[('feature_map', RBFSampler(gamma=0.2, n_components=32, random_state=1)), ('reg', PynqLinearRegression(hw_accel=True))])"
      ]
     },
     "execution_count": 4,
     "metadata": {},
     "output_type": "execute_result"
    }
   ],
   "source": [
    "fourier_approx_pipe.fit(X_train, y_train)"
   ]
  },
  {
   "cell_type": "markdown",
   "metadata": {},
   "source": [
    "#### 4. Predict and score"
   ]
  },
  {
   "cell_type": "code",
   "execution_count": 5,
   "metadata": {},
   "outputs": [
    {
     "name": "stdout",
     "output_type": "stream",
     "text": [
      "Offloading predict to FPGA ...\n",
      "score:  0.9999999982674712\n"
     ]
    }
   ],
   "source": [
    "fourier_score = fourier_approx_pipe.score(X_test, y_test)\n",
    "print(\"score: \", fourier_score)"
   ]
  },
  {
   "cell_type": "code",
   "execution_count": null,
   "metadata": {},
   "outputs": [],
   "source": []
  }
 ],
 "metadata": {
  "kernelspec": {
   "display_name": "Python 3",
   "language": "python",
   "name": "python3"
  },
  "language_info": {
   "codemirror_mode": {
    "name": "ipython",
    "version": 3
   },
   "file_extension": ".py",
   "mimetype": "text/x-python",
   "name": "python",
   "nbconvert_exporter": "python",
   "pygments_lexer": "ipython3",
   "version": "3.6.0"
  }
 },
 "nbformat": 4,
 "nbformat_minor": 2
}
