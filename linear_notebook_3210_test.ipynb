{
 "cells": [
  {
   "cell_type": "markdown",
   "metadata": {},
   "source": [
    "# Linear Regression on PYNQ-Z1\n",
    "### n_features = 32, n_outputs=10"
   ]
  },
  {
   "cell_type": "code",
   "execution_count": 1,
   "metadata": {},
   "outputs": [
    {
     "data": {
      "application/javascript": [
       "\n",
       "require(['notebook/js/codecell'], function(codecell) {\n",
       "  codecell.CodeCell.options_default.highlight_modes[\n",
       "      'magic_text/x-csrc'] = {'reg':[/^%%microblaze/]};\n",
       "  Jupyter.notebook.events.one('kernel_ready.Kernel', function(){\n",
       "      Jupyter.notebook.get_cells().map(function(cell){\n",
       "          if (cell.cell_type == 'code'){ cell.auto_highlight(); } }) ;\n",
       "  });\n",
       "});\n"
      ]
     },
     "metadata": {},
     "output_type": "display_data"
    }
   ],
   "source": [
    "import numpy as np\n",
    "from sklearn import datasets\n",
    "from pynq_sklearn.linear_model import PynqLinearRegression\n",
    "import time\n",
    "\n",
    "# Generate dataset of Ints\n",
    "X, y = datasets.make_regression(n_samples=5000, n_features=32, n_targets=10, random_state=43, noise=4.0,\n",
    "                       bias=26.0)\n",
    "from sklearn.model_selection import train_test_split\n",
    "X_train, X_test, y_train, y_test = train_test_split(X, y, test_size=1000, random_state=42)"
   ]
  },
  {
   "cell_type": "markdown",
   "metadata": {},
   "source": [
    "#### 1. Fit a PYNQ Linear Regression Model"
   ]
  },
  {
   "cell_type": "code",
   "execution_count": 2,
   "metadata": {},
   "outputs": [],
   "source": [
    "model = PynqLinearRegression(fit_intercept=True)\n",
    "model.fit(X_train, y_train)"
   ]
  },
  {
   "cell_type": "markdown",
   "metadata": {},
   "source": [
    "#### 2. With hw_accel=True, deploy prediction on the FPGA "
   ]
  },
  {
   "cell_type": "code",
   "execution_count": 3,
   "metadata": {},
   "outputs": [],
   "source": [
    "# prepare X_test and y_test for HW\n",
    "FRAC_WIDTH = 20\n",
    "X_test_hw = (X_test*(1<<FRAC_WIDTH)).astype(np.int32)\n",
    "y_test_hw = (y_test*(1<<FRAC_WIDTH)).astype(np.int32)\n",
    "\n",
    "X_test_hw = model.copy_array(X_test_hw, dtype=np.int32) # allocates X_test_hw to contiguous memory"
   ]
  },
  {
   "cell_type": "code",
   "execution_count": 4,
   "metadata": {},
   "outputs": [],
   "source": [
    "y_pred = model.predict(X_test_hw)"
   ]
  },
  {
   "cell_type": "markdown",
   "metadata": {},
   "source": [
    "#### 3. Alternatively, deploy in SW"
   ]
  },
  {
   "cell_type": "code",
   "execution_count": 5,
   "metadata": {},
   "outputs": [],
   "source": [
    "model.hw_accel=False\n",
    "y_pred_sw = model.predict(X_test)"
   ]
  },
  {
   "cell_type": "markdown",
   "metadata": {},
   "source": [
    "#### 4. Verify equivalence"
   ]
  },
  {
   "cell_type": "code",
   "execution_count": 6,
   "metadata": {},
   "outputs": [
    {
     "name": "stdout",
     "output_type": "stream",
     "text": [
      "0.00035776521343677814\n"
     ]
    }
   ],
   "source": [
    "print((y_pred*(1.0/(1<<FRAC_WIDTH)) - y_pred_sw).max())"
   ]
  },
  {
   "cell_type": "markdown",
   "metadata": {},
   "source": [
    "#### 5. Performance\n",
    "Bad performance observed because of sw-to-hw processing in lin.predict()"
   ]
  },
  {
   "cell_type": "code",
   "execution_count": 7,
   "metadata": {},
   "outputs": [
    {
     "name": "stdout",
     "output_type": "stream",
     "text": [
      "Time taken by sklearn 200 times 1.101171796000017\n",
      "Time taken by sklearn+fpga 200 times 0.1389062240000385\n",
      "HW Speedup = 7x\n"
     ]
    }
   ],
   "source": [
    "import timeit\n",
    "number=200\n",
    "\n",
    "model.hw_accel=True\n",
    "def hwresp():\n",
    "    model.predict(X_test_hw) #, out=outBuffer)\n",
    "\n",
    "hw_time = timeit.timeit(hwresp,number=number)\n",
    "\n",
    "model.hw_accel=False\n",
    "def swresp():\n",
    "    model.predict(X_test)\n",
    "\n",
    "sw_time = timeit.timeit(swresp,number=number)\n",
    "\n",
    "print(\"Time taken by sklearn\", number,\"times\",sw_time)\n",
    "print(\"Time taken by sklearn+fpga\", number,\"times\",hw_time)\n",
    "print(\"HW Speedup = %dx\"%(sw_time/hw_time))"
   ]
  },
  {
   "cell_type": "markdown",
   "metadata": {},
   "source": [
    "### Verify Equivalence Again"
   ]
  },
  {
   "cell_type": "code",
   "execution_count": 8,
   "metadata": {},
   "outputs": [],
   "source": [
    "N = 10\n",
    "n_features = 32\n",
    "n_outputs = 10\n",
    "\n",
    "np.random.seed(23)\n",
    "\n",
    "x = np.random.rand(N*n_features).astype(np.float32)*2 - 1\n",
    "a = np.random.rand(n_features*n_outputs).astype(np.float32)*2 - 1\n",
    "b = np.random.rand(n_outputs).astype(np.float32)*2 - 1\n",
    "\n",
    "x_hw = (x*(1<<FRAC_WIDTH)).astype(np.int32)\n",
    "a_hw = (a*(1<<FRAC_WIDTH)).astype(np.int32)\n",
    "b_hw = (b*(1<<FRAC_WIDTH)).astype(np.int32)\n",
    "\n",
    "x_sw = x.reshape(-1, n_features).astype(np.float32)\n",
    "a_sw = a.reshape(-1, n_features).astype(np.float32)\n",
    "b_sw = b.astype(np.float32)\n",
    "\n",
    "#hw accelerator\n",
    "model.hw_accel = True\n",
    "model.coef_hw = model.copy_array(a_hw, dtype=np.int32)\n",
    "model.intercept_hw = model.copy_array(b_hw, dtype=np.int32)\n",
    "xtest = model.copy_array(x_hw, dtype=np.int32)\n",
    "ypred = model.predict(xtest)\n",
    "ypred = ypred*(1.0/(1<<FRAC_WIDTH))\n",
    "\n",
    "#sw\n",
    "model.hw_accel = False\n",
    "model.coef_ = a_sw\n",
    "model.intercept_ = b_sw\n",
    "ypred_sw = model.predict(x_sw)"
   ]
  },
  {
   "cell_type": "code",
   "execution_count": 9,
   "metadata": {},
   "outputs": [
    {
     "name": "stdout",
     "output_type": "stream",
     "text": [
      "[[-1.65700912e-05 -1.04904175e-05 -1.04904175e-05 -1.57356262e-05\n",
      "  -1.25169754e-05 -1.64508820e-05 -1.20401382e-05 -1.77025795e-05\n",
      "  -1.25169754e-05 -1.25169754e-05]\n",
      " [-1.25169754e-05 -1.71065331e-05 -1.23977661e-05 -1.90734863e-05\n",
      "  -1.88350677e-05 -1.64508820e-05 -1.71661377e-05 -1.26957893e-05\n",
      "  -1.38878822e-05 -1.31726265e-05]\n",
      " [-1.85966492e-05 -1.33514404e-05 -1.32322311e-05 -1.65700912e-05\n",
      "  -2.00271606e-05 -2.24113464e-05 -1.25765800e-05 -1.00135803e-05\n",
      "  -9.77516174e-06 -1.00135803e-05]\n",
      " [-2.67028809e-05 -1.46180391e-05 -1.44243240e-05 -1.18017197e-05\n",
      "  -8.94069672e-06 -1.47819519e-05 -1.90734863e-05 -1.46627426e-05\n",
      "  -1.02519989e-05 -1.03712082e-05]\n",
      " [-1.40070915e-05 -1.57356262e-05 -1.85966492e-05 -1.07288361e-05\n",
      "  -1.23977661e-05 -1.95503235e-05 -1.87158585e-05 -1.71661377e-05\n",
      "  -1.09970570e-05 -1.33514404e-05]\n",
      " [-1.63912773e-05 -1.31130219e-05 -8.58306885e-06 -1.76429749e-05\n",
      "  -1.85966492e-05 -1.84774399e-05 -1.15633011e-05 -1.69277191e-05\n",
      "  -1.23977661e-05 -2.14576721e-05]\n",
      " [-1.27553940e-05 -1.46031380e-05 -8.82148743e-06 -1.65700912e-05\n",
      "  -1.44243240e-05 -2.02655792e-05 -1.15633011e-05 -1.95503235e-05\n",
      "  -1.57952309e-05 -1.65998936e-05]\n",
      " [-1.66893005e-05 -1.71661377e-05 -1.09672546e-05 -1.23977661e-05\n",
      "  -1.82390213e-05 -1.85966492e-05 -1.25169754e-05 -1.32322311e-05\n",
      "  -1.50203705e-05 -9.05990601e-06]\n",
      " [-5.72204590e-06 -1.86562538e-05 -1.82986259e-05 -2.02655792e-05\n",
      "  -1.22785568e-05 -2.09808350e-05 -2.00271606e-05 -1.35898590e-05\n",
      "  -1.76429749e-05 -1.77621841e-05]\n",
      " [-1.14440918e-05 -9.05990601e-06 -1.07288361e-05 -1.89542770e-05\n",
      "  -1.81198120e-05 -1.78813934e-05 -8.46385956e-06 -1.10864639e-05\n",
      "  -1.90734863e-05 -1.46627426e-05]]\n"
     ]
    }
   ],
   "source": [
    "print(ypred - ypred_sw)"
   ]
  },
  {
   "cell_type": "code",
   "execution_count": 10,
   "metadata": {},
   "outputs": [
    {
     "name": "stdout",
     "output_type": "stream",
     "text": [
      "[[ 1.51902103 -1.06475925 -3.28856182  0.91558361 -1.52748013  3.34065819\n",
      "  -1.47908974  0.20988274  0.62380314 -1.07286453]\n",
      " [-1.06260586  0.64205551 -2.64224148  1.0890274   1.4914732   1.52650261\n",
      "   1.92728806  0.37183475  0.03969097  0.02293491]\n",
      " [ 2.60198021 -1.09309387 -1.82859516  0.81075478  3.28142738  2.06953144\n",
      "   0.1934967  -3.36218548 -3.4997921  -1.64908314]\n",
      " [ 4.76349545 -0.15543938 -1.4558115  -0.62310886 -1.96616268  2.09543705\n",
      "   3.16730022  0.15124321 -1.12252331 -1.68079758]\n",
      " [-0.42061615  1.37967873  1.40735435 -2.79505253 -2.38910294  2.42025471\n",
      "   1.1307478   1.18541527  0.13239765 -2.91860962]\n",
      " [-0.63260555 -1.5522356  -2.84490204  2.62291813  2.32999229  1.77416897\n",
      "  -1.39729786  1.62425613 -1.03446484  2.80814266]\n",
      " [-1.13018894 -0.32833958 -0.75452995  1.5255785   1.52586555  0.00692558\n",
      "  -1.88742161 -0.10761166  0.37456226 -0.31443119]\n",
      " [ 2.0696516   1.37896061 -3.30697823 -2.1456728   0.88922977  2.0313158\n",
      "   1.07676888 -1.58901787  1.07527065 -3.43192959]\n",
      " [-2.9028759   0.88695908  0.57749462  3.99616432 -0.20197582  5.65675259\n",
      "   2.31086636  1.41667366  2.21582985  1.98607922]\n",
      " [-3.67844296 -2.4923048  -0.65288258  1.89421368  3.83515644  1.15254307\n",
      "  -1.46958542 -1.91590405  2.03908443  0.7953186 ]]\n"
     ]
    }
   ],
   "source": [
    "print(ypred)"
   ]
  },
  {
   "cell_type": "code",
   "execution_count": 11,
   "metadata": {},
   "outputs": [
    {
     "name": "stdout",
     "output_type": "stream",
     "text": [
      "[[ 1.5190376  -1.0647488  -3.2885513   0.91559935 -1.5274676   3.3406746\n",
      "  -1.4790777   0.20990044  0.62381566 -1.072852  ]\n",
      " [-1.0625933   0.6420726  -2.642229    1.0890465   1.491492    1.5265191\n",
      "   1.9273052   0.37184745  0.03970486  0.02294809]\n",
      " [ 2.6019988  -1.0930805  -1.8285819   0.81077135  3.2814474   2.0695539\n",
      "   0.19350928 -3.3621755  -3.4997823  -1.6490731 ]\n",
      " [ 4.763522   -0.15542476 -1.4557971  -0.62309706 -1.9661537   2.0954518\n",
      "   3.1673193   0.15125787 -1.122513   -1.6807872 ]\n",
      " [-0.42060214  1.3796945   1.407373   -2.7950418  -2.3890905   2.4202743\n",
      "   1.1307665   1.1854324   0.13240865 -2.9185963 ]\n",
      " [-0.63258916 -1.5522225  -2.8448935   2.6229358   2.330011    1.7741874\n",
      "  -1.3972863   1.6242731  -1.0344524   2.8081641 ]\n",
      " [-1.1301762  -0.32832497 -0.75452113  1.5255951   1.52588     0.00694585\n",
      "  -1.88741    -0.10759211  0.37457806 -0.3144146 ]\n",
      " [ 2.0696683   1.3789778  -3.3069673  -2.1456604   0.889248    2.0313344\n",
      "   1.0767814  -1.5890046   1.0752857  -3.4319205 ]\n",
      " [-2.9028702   0.88697773  0.5775129   3.9961846  -0.20196354  5.6567736\n",
      "   2.3108864   1.4166873   2.2158475   1.986097  ]\n",
      " [-3.6784315  -2.4922957  -0.65287185  1.8942326   3.8351746   1.152561\n",
      "  -1.469577   -1.915893    2.0391035   0.79533327]]\n"
     ]
    }
   ],
   "source": [
    "print(ypred_sw)"
   ]
  }
 ],
 "metadata": {
  "kernelspec": {
   "display_name": "Python 3",
   "language": "python",
   "name": "python3"
  },
  "language_info": {
   "codemirror_mode": {
    "name": "ipython",
    "version": 3
   },
   "file_extension": ".py",
   "mimetype": "text/x-python",
   "name": "python",
   "nbconvert_exporter": "python",
   "pygments_lexer": "ipython3",
   "version": "3.6.0"
  }
 },
 "nbformat": 4,
 "nbformat_minor": 2
}
