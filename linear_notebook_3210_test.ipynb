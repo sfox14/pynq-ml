{
 "cells": [
  {
   "cell_type": "markdown",
   "metadata": {},
   "source": [
    "# Linear Regression on PYNQ-Z1\n",
    "### n_features = 32, n_outputs=10"
   ]
  },
  {
   "cell_type": "code",
   "execution_count": 1,
   "metadata": {},
   "outputs": [
    {
     "data": {
      "application/javascript": [
       "\n",
       "require(['notebook/js/codecell'], function(codecell) {\n",
       "  codecell.CodeCell.options_default.highlight_modes[\n",
       "      'magic_text/x-csrc'] = {'reg':[/^%%microblaze/]};\n",
       "  Jupyter.notebook.events.one('kernel_ready.Kernel', function(){\n",
       "      Jupyter.notebook.get_cells().map(function(cell){\n",
       "          if (cell.cell_type == 'code'){ cell.auto_highlight(); } }) ;\n",
       "  });\n",
       "});\n"
      ]
     },
     "metadata": {},
     "output_type": "display_data"
    }
   ],
   "source": [
    "import numpy as np\n",
    "from sklearn import datasets\n",
    "from pynq_sklearn.linear_model import PynqLinearRegression\n",
    "import time\n",
    "\n",
    "# Generate dataset of Ints\n",
    "X, y = datasets.make_regression(n_samples=5000, n_features=32, n_targets=10, random_state=0, noise=4.0,\n",
    "                       bias=100.0)"
   ]
  },
  {
   "cell_type": "code",
   "execution_count": 2,
   "metadata": {},
   "outputs": [],
   "source": [
    "from sklearn.model_selection import train_test_split\n",
    "X_train, X_test, y_train, y_test = train_test_split(X, y, test_size=1000, random_state=42)\n",
    "X_test = np.abs((X_test*(2**20)).astype(\"int32\"))\n",
    "y_test = np.abs((y_test*(2**20)).astype(\"int32\"))"
   ]
  },
  {
   "cell_type": "markdown",
   "metadata": {},
   "source": [
    "#### 1. Fit a PYNQ Linear Regression Model\n",
    "(**Note: this notebook will only work with the Boston dataset (or datasets with the same shape). This is because our HW accelerator has been hardcoded)"
   ]
  },
  {
   "cell_type": "code",
   "execution_count": 3,
   "metadata": {},
   "outputs": [],
   "source": [
    "lin = PynqLinearRegression(fit_intercept=True, hw_accel=True)\n",
    "lin.fit(X_train, y_train)"
   ]
  },
  {
   "cell_type": "markdown",
   "metadata": {},
   "source": [
    "#### 2. With hw_accel=True, deploy prediction on the FPGA "
   ]
  },
  {
   "cell_type": "code",
   "execution_count": 4,
   "metadata": {},
   "outputs": [
    {
     "name": "stdout",
     "output_type": "stream",
     "text": [
      "Offloading predict to FPGA ...\n"
     ]
    }
   ],
   "source": [
    "y_pred = lin.predict(X_test)"
   ]
  },
  {
   "cell_type": "markdown",
   "metadata": {},
   "source": [
    "#### 3. Alternatively, deploy in SW"
   ]
  },
  {
   "cell_type": "code",
   "execution_count": 5,
   "metadata": {},
   "outputs": [],
   "source": [
    "lin.hw_accel=False\n",
    "y_pred_sw = lin.predict(X_test)"
   ]
  },
  {
   "cell_type": "markdown",
   "metadata": {},
   "source": [
    "#### 4. Verify equivalence"
   ]
  },
  {
   "cell_type": "code",
   "execution_count": 6,
   "metadata": {},
   "outputs": [
    {
     "data": {
      "text/plain": [
       "True"
      ]
     },
     "execution_count": 6,
     "metadata": {},
     "output_type": "execute_result"
    }
   ],
   "source": [
    "import numpy as np\n",
    "np.allclose(y_pred, y_pred_sw, )"
   ]
  },
  {
   "cell_type": "markdown",
   "metadata": {},
   "source": [
    "#### 5. Performance\n",
    "Bad performance observed because of sw-to-hw processing in lin.predict()"
   ]
  },
  {
   "cell_type": "code",
   "execution_count": 7,
   "metadata": {},
   "outputs": [
    {
     "name": "stdout",
     "output_type": "stream",
     "text": [
      "Offloading predict to FPGA ...\n",
      "Offloading predict to FPGA ...\n",
      "Offloading predict to FPGA ...\n",
      "Offloading predict to FPGA ...\n",
      "Offloading predict to FPGA ...\n",
      "Offloading predict to FPGA ...\n",
      "Offloading predict to FPGA ...\n",
      "Offloading predict to FPGA ...\n",
      "Offloading predict to FPGA ...\n",
      "Offloading predict to FPGA ...\n",
      "Offloading predict to FPGA ...\n",
      "Offloading predict to FPGA ...\n",
      "Offloading predict to FPGA ...\n",
      "Offloading predict to FPGA ...\n",
      "Offloading predict to FPGA ...\n",
      "Offloading predict to FPGA ...\n",
      "Offloading predict to FPGA ...\n",
      "Offloading predict to FPGA ...\n",
      "Offloading predict to FPGA ...\n",
      "Offloading predict to FPGA ...\n",
      "Time taken by sklearn 20 times 0.08533485499992821\n",
      "Time taken by sklearn+fpga 20 times 2.6650082829999064\n",
      "HW Speedup = 0x\n"
     ]
    }
   ],
   "source": [
    "import timeit\n",
    "number=20\n",
    "\n",
    "lin.hw_accel=True\n",
    "def hwresp():\n",
    "    lin.predict(X_test)\n",
    "\n",
    "hw_time = timeit.timeit(hwresp,number=number)\n",
    "\n",
    "lin.hw_accel=False\n",
    "def swresp():\n",
    "    lin.predict(X_test)\n",
    "\n",
    "sw_time = timeit.timeit(swresp,number=number)\n",
    "\n",
    "print(\"Time taken by sklearn\", number,\"times\",sw_time)\n",
    "print(\"Time taken by sklearn+fpga\", number,\"times\",hw_time)\n",
    "print(\"HW Speedup = %dx\"%(sw_time/hw_time))"
   ]
  },
  {
   "cell_type": "code",
   "execution_count": null,
   "metadata": {},
   "outputs": [],
   "source": []
  }
 ],
 "metadata": {
  "kernelspec": {
   "display_name": "Python 3",
   "language": "python",
   "name": "python3"
  },
  "language_info": {
   "codemirror_mode": {
    "name": "ipython",
    "version": 3
   },
   "file_extension": ".py",
   "mimetype": "text/x-python",
   "name": "python",
   "nbconvert_exporter": "python",
   "pygments_lexer": "ipython3",
   "version": "3.6.0"
  }
 },
 "nbformat": 4,
 "nbformat_minor": 2
}
