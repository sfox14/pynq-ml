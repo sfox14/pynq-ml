{
 "cells": [
  {
   "cell_type": "markdown",
   "metadata": {},
   "source": [
    "# Linear Regression on PYNQ-Z1\n",
    "### n_features = 32, n_outputs=10"
   ]
  },
  {
   "cell_type": "code",
   "execution_count": 1,
   "metadata": {},
   "outputs": [
    {
     "data": {
      "application/javascript": [
       "\n",
       "require(['notebook/js/codecell'], function(codecell) {\n",
       "  codecell.CodeCell.options_default.highlight_modes[\n",
       "      'magic_text/x-csrc'] = {'reg':[/^%%microblaze/]};\n",
       "  Jupyter.notebook.events.one('kernel_ready.Kernel', function(){\n",
       "      Jupyter.notebook.get_cells().map(function(cell){\n",
       "          if (cell.cell_type == 'code'){ cell.auto_highlight(); } }) ;\n",
       "  });\n",
       "});\n"
      ]
     },
     "metadata": {},
     "output_type": "display_data"
    }
   ],
   "source": [
    "import numpy as np\n",
    "from sklearn import datasets\n",
    "from pynq_sklearn.linear_model import PynqLinearRegression\n",
    "import time\n",
    "\n",
    "# Generate dataset of Ints\n",
    "X, y = datasets.make_regression(n_samples=5000, n_features=32, n_targets=10, random_state=43, noise=4.0,\n",
    "                       bias=26.0)\n",
    "from sklearn.model_selection import train_test_split\n",
    "X_train, X_test, y_train, y_test = train_test_split(X, y, test_size=1000, random_state=42)"
   ]
  },
  {
   "cell_type": "markdown",
   "metadata": {},
   "source": [
    "#### 1. Fit a PYNQ Linear Regression Model"
   ]
  },
  {
   "cell_type": "code",
   "execution_count": 2,
   "metadata": {},
   "outputs": [],
   "source": [
    "model = PynqLinearRegression(fit_intercept=True)\n",
    "model.fit(X_train, y_train)"
   ]
  },
  {
   "cell_type": "markdown",
   "metadata": {},
   "source": [
    "#### 2. With hw_accel=True, deploy prediction on the FPGA "
   ]
  },
  {
   "cell_type": "code",
   "execution_count": 3,
   "metadata": {},
   "outputs": [],
   "source": [
    "# prepare X_test and y_test for HW\n",
    "FRAC_WIDTH = 24\n",
    "X_test_hw = (X_test*(1<<FRAC_WIDTH)).astype(np.int32)\n",
    "y_test_hw = (y_test*(1<<FRAC_WIDTH)).astype(np.int32)\n",
    "\n",
    "X_test_hw = model.copy(X_test_hw, dtype=np.int32) # allocates X_test_hw to contiguous memory"
   ]
  },
  {
   "cell_type": "code",
   "execution_count": 4,
   "metadata": {},
   "outputs": [],
   "source": [
    "y_pred = model.predict(X_test_hw)"
   ]
  },
  {
   "cell_type": "markdown",
   "metadata": {},
   "source": [
    "#### 3. Alternatively, deploy in SW"
   ]
  },
  {
   "cell_type": "code",
   "execution_count": 5,
   "metadata": {},
   "outputs": [],
   "source": [
    "model.hw_accel=False\n",
    "y_pred_sw = model.predict(X_test)"
   ]
  },
  {
   "cell_type": "markdown",
   "metadata": {},
   "source": [
    "#### 4. Verify equivalence"
   ]
  },
  {
   "cell_type": "code",
   "execution_count": 9,
   "metadata": {},
   "outputs": [
    {
     "name": "stdout",
     "output_type": "stream",
     "text": [
      "[[-4.49478013e-06 -3.09672816e-06 -6.17630509e-07 ... -5.50163787e-06\n",
      "   2.60537914e-06 -1.38254390e-06]\n",
      " [ 3.97980315e-06  3.34022958e-06  2.56000009e+02 ...  2.56000007e+02\n",
      "   2.56000007e+02  2.56000010e+02]\n",
      " [-2.56000009e+02 -2.56000004e+02 -2.56000006e+02 ... -2.56000011e+02\n",
      "  -4.21495876e-06 -1.89698182e-06]\n",
      " ...\n",
      " [-7.62413354e-06 -5.32690305e-06 -1.15313373e-05 ... -8.30745788e-06\n",
      "   2.55999998e+02  2.55999999e+02]\n",
      " [ 2.56000004e+02  2.56000005e+02  4.48502087e-06 ... -3.25869550e-07\n",
      "   6.50461290e-06  6.76954414e-07]\n",
      " [-4.63467698e-06 -2.56000004e+02 -2.56000008e+02 ... -2.56000008e+02\n",
      "  -4.46315710e-07 -2.56000006e+02]]\n"
     ]
    }
   ],
   "source": []
  },
  {
   "cell_type": "markdown",
   "metadata": {},
   "source": [
    "#### 5. Performance\n",
    "Bad performance observed because of sw-to-hw processing in lin.predict()"
   ]
  },
  {
   "cell_type": "code",
   "execution_count": 7,
   "metadata": {},
   "outputs": [
    {
     "name": "stdout",
     "output_type": "stream",
     "text": [
      "Time taken by sklearn 200 times 1.1033033580001756\n",
      "Time taken by sklearn+fpga 200 times 0.1294480280002972\n",
      "HW Speedup = 8x\n"
     ]
    }
   ],
   "source": [
    "import timeit\n",
    "number=200\n",
    "\n",
    "model.hw_accel=True\n",
    "def hwresp():\n",
    "    model.predict(X_test_hw) #, out=outBuffer)\n",
    "\n",
    "hw_time = timeit.timeit(hwresp,number=number)\n",
    "\n",
    "model.hw_accel=False\n",
    "def swresp():\n",
    "    model.predict(X_test)\n",
    "\n",
    "sw_time = timeit.timeit(swresp,number=number)\n",
    "\n",
    "print(\"Time taken by sklearn\", number,\"times\",sw_time)\n",
    "print(\"Time taken by sklearn+fpga\", number,\"times\",hw_time)\n",
    "print(\"HW Speedup = %dx\"%(sw_time/hw_time))"
   ]
  },
  {
   "cell_type": "markdown",
   "metadata": {},
   "source": [
    "### Verify Equivalence Again"
   ]
  },
  {
   "cell_type": "code",
   "execution_count": 18,
   "metadata": {},
   "outputs": [],
   "source": [
    "N = 10\n",
    "n_features = 32\n",
    "n_outputs = 10\n",
    "\n",
    "np.random.seed(23)\n",
    "\n",
    "x = np.random.rand(N*n_features).astype(np.float32)*2 - 1\n",
    "a = np.random.rand(n_features*n_outputs).astype(np.float32)*2 - 1\n",
    "b = np.random.rand(n_outputs).astype(np.float32)*2 - 1\n",
    "\n",
    "x_hw = (x*(1<<FRAC_WIDTH)).astype(np.int32)\n",
    "a_hw = (a*(1<<FRAC_WIDTH)).astype(np.int32)\n",
    "b_hw = (b*(1<<FRAC_WIDTH)).astype(np.int32)\n",
    "\n",
    "x_sw = x.reshape(-1, n_features).astype(np.float32)\n",
    "a_sw = a.reshape(-1, n_features).astype(np.float32)\n",
    "b_sw = b.astype(np.float32)\n",
    "\n",
    "#hw accelerator\n",
    "model.hw_accel = True\n",
    "model.coef_hw = model.copy(a_hw, dtype=np.int32)\n",
    "model.intercept_hw = model.copy(b_hw, dtype=np.int32)\n",
    "xtest = model.copy(x_hw, dtype=np.int32)\n",
    "ypred = model.predict(xtest)\n",
    "ypred = ypred*(1.0/(1<<FRAC_WIDTH))\n",
    "\n",
    "#sw\n",
    "model.hw_accel = False\n",
    "model.coef_ = a_sw\n",
    "model.intercept_ = b_sw\n",
    "ypred_sw = model.predict(x_sw)"
   ]
  },
  {
   "cell_type": "code",
   "execution_count": 19,
   "metadata": {},
   "outputs": [
    {
     "name": "stdout",
     "output_type": "stream",
     "text": [
      "[[-1.01327896e-06 -8.34465027e-07 -1.43051147e-06 -5.96046448e-07\n",
      "  -1.13248825e-06 -1.37090683e-06 -8.34465027e-07 -8.94069672e-07\n",
      "  -1.07288361e-06 -7.74860382e-07]\n",
      " [-6.55651093e-07 -8.94069672e-07  0.00000000e+00 -8.94069672e-07\n",
      "  -5.96046448e-07 -1.01327896e-06 -1.19209290e-06 -8.34465027e-07\n",
      "  -1.07288361e-06 -9.53674316e-07]\n",
      " [-9.53674316e-07 -1.01327896e-06 -9.53674316e-07 -1.01327896e-06\n",
      "  -1.01327896e-06 -1.13248825e-06 -1.31130219e-06 -1.49011612e-06\n",
      "  -7.15255737e-07 -1.13248825e-06]\n",
      " [-9.53674316e-07 -7.89761543e-07 -8.94069672e-07 -1.01327896e-06\n",
      "  -7.74860382e-07 -1.31130219e-06 -7.15255737e-07 -1.19209290e-06\n",
      "  -8.94069672e-07 -1.01327896e-06]\n",
      " [-8.94069672e-07 -9.53674316e-07 -8.34465027e-07 -8.94069672e-07\n",
      "  -7.74860382e-07 -1.19209290e-06 -1.07288361e-06 -7.74860382e-07\n",
      "  -9.83476639e-07 -8.94069672e-07]\n",
      " [-1.01327896e-06 -1.07288361e-06 -1.19209290e-06 -1.13248825e-06\n",
      "  -1.07288361e-06 -9.53674316e-07 -8.94069672e-07 -7.74860382e-07\n",
      "  -8.94069672e-07 -5.96046448e-07]\n",
      " [-1.07288361e-06 -9.53674316e-07 -1.01327896e-06 -7.74860382e-07\n",
      "  -1.19209290e-06 -8.34465027e-07 -1.01327896e-06 -1.13248825e-06\n",
      "  -9.53674316e-07 -1.04308128e-06]\n",
      " [-1.19209290e-06 -1.19209290e-06 -5.36441803e-07 -1.19209290e-06\n",
      "  -8.94069672e-07 -1.13248825e-06 -8.34465027e-07 -7.15255737e-07\n",
      "  -9.53674316e-07 -9.53674316e-07]\n",
      " [-5.36441803e-07 -9.53674316e-07 -6.55651093e-07 -7.15255737e-07\n",
      "  -8.94069672e-07 -1.43051147e-06 -1.25169754e-06 -1.13248825e-06\n",
      "  -8.34465027e-07 -8.34465027e-07]\n",
      " [-7.15255737e-07 -1.01327896e-06 -8.94069672e-07 -8.94069672e-07\n",
      "  -1.13248825e-06 -7.74860382e-07 -3.57627869e-07 -2.98023224e-07\n",
      "  -1.13248825e-06 -1.07288361e-06]]\n"
     ]
    }
   ],
   "source": [
    "print(ypred - ypred_sw)"
   ]
  },
  {
   "cell_type": "code",
   "execution_count": 20,
   "metadata": {},
   "outputs": [
    {
     "name": "stdout",
     "output_type": "stream",
     "text": [
      "[[ 1.51903659 -1.0647496  -3.28855276  0.91559875 -1.52746874  3.34067327\n",
      "  -1.47907853  0.20989954  0.62381458 -1.07285279]\n",
      " [-1.062594    0.64207172 -2.64222908  1.08904558  1.49149144  1.52651805\n",
      "   1.92730403  0.37184662  0.03970379  0.02294713]\n",
      " [ 2.60199785 -1.09308153 -1.82858288  0.81077033  3.2814464   2.06955272\n",
      "   0.19350797 -3.36217695 -3.49978304 -1.64907426]\n",
      " [ 4.76352119 -0.15542555 -1.45579797 -0.62309808 -1.96615452  2.09545052\n",
      "   3.16731858  0.15125668 -1.12251395 -1.68078822]\n",
      " [-0.42060304  1.37969351  1.40737212 -2.79504269 -2.38909131  2.42027307\n",
      "   1.13076544  1.18543166  0.13240767 -2.91859716]\n",
      " [-0.63259017 -1.55222356 -2.84489465  2.62293464  2.33000982  1.77418649\n",
      "  -1.39728719  1.62427229 -1.03445333  2.80816352]\n",
      " [-1.13017726 -0.32832593 -0.75452214  1.52559429  1.52587879  0.00694501\n",
      "  -1.88741106 -0.10759324  0.37457711 -0.31441563]\n",
      " [ 2.0696671   1.37897658 -3.30696779 -2.14566159  0.88924712  2.03133327\n",
      "   1.07678056 -1.58900535  1.07528472 -3.43192148]\n",
      " [-2.90287071  0.88697678  0.57751226  3.99618387 -0.20196444  5.65677214\n",
      "   2.31088513  1.41668612  2.21584666  1.98609614]\n",
      " [-3.67843223 -2.49229676 -0.65287274  1.89423174  3.83517343  1.15256017\n",
      "  -1.46957731 -1.91589326  2.03910238  0.79533219]]\n"
     ]
    }
   ],
   "source": [
    "print(ypred)"
   ]
  },
  {
   "cell_type": "code",
   "execution_count": 21,
   "metadata": {},
   "outputs": [
    {
     "name": "stdout",
     "output_type": "stream",
     "text": [
      "[[ 1.5190376  -1.0647488  -3.2885513   0.91559935 -1.5274676   3.3406746\n",
      "  -1.4790777   0.20990044  0.62381566 -1.072852  ]\n",
      " [-1.0625933   0.6420726  -2.642229    1.0890465   1.491492    1.5265191\n",
      "   1.9273052   0.37184745  0.03970486  0.02294809]\n",
      " [ 2.6019988  -1.0930805  -1.8285819   0.81077135  3.2814474   2.0695539\n",
      "   0.19350928 -3.3621755  -3.4997823  -1.6490731 ]\n",
      " [ 4.763522   -0.15542476 -1.4557971  -0.62309706 -1.9661537   2.0954518\n",
      "   3.1673193   0.15125787 -1.122513   -1.6807872 ]\n",
      " [-0.42060214  1.3796945   1.407373   -2.7950418  -2.3890905   2.4202743\n",
      "   1.1307665   1.1854324   0.13240865 -2.9185963 ]\n",
      " [-0.63258916 -1.5522225  -2.8448935   2.6229358   2.330011    1.7741874\n",
      "  -1.3972863   1.6242731  -1.0344524   2.8081641 ]\n",
      " [-1.1301762  -0.32832497 -0.75452113  1.5255951   1.52588     0.00694585\n",
      "  -1.88741    -0.10759211  0.37457806 -0.3144146 ]\n",
      " [ 2.0696683   1.3789778  -3.3069673  -2.1456604   0.889248    2.0313344\n",
      "   1.0767814  -1.5890046   1.0752857  -3.4319205 ]\n",
      " [-2.9028702   0.88697773  0.5775129   3.9961846  -0.20196354  5.6567736\n",
      "   2.3108864   1.4166873   2.2158475   1.986097  ]\n",
      " [-3.6784315  -2.4922957  -0.65287185  1.8942326   3.8351746   1.152561\n",
      "  -1.469577   -1.915893    2.0391035   0.79533327]]\n"
     ]
    }
   ],
   "source": [
    "print(ypred_sw)"
   ]
  },
  {
   "cell_type": "code",
   "execution_count": null,
   "metadata": {},
   "outputs": [],
   "source": []
  }
 ],
 "metadata": {
  "kernelspec": {
   "display_name": "Python 3",
   "language": "python",
   "name": "python3"
  },
  "language_info": {
   "codemirror_mode": {
    "name": "ipython",
    "version": 3
   },
   "file_extension": ".py",
   "mimetype": "text/x-python",
   "name": "python",
   "nbconvert_exporter": "python",
   "pygments_lexer": "ipython3",
   "version": "3.6.0"
  }
 },
 "nbformat": 4,
 "nbformat_minor": 2
}
